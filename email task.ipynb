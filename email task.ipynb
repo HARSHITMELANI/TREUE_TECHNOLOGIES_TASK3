{
 "cells": [
  {
   "cell_type": "markdown",
   "id": "84a952b4",
   "metadata": {},
   "source": [
    "# Email Spam Detection by HARSHIT MELANI\n",
    "    \n",
    " The objective of this project is to create an email spam detection system that uses machine learning algorithms to classify incoming emails. By training the model on a labeled dataset of spam and non-spam emails, we aim to develop an accurate and efficient spam detector that can reliably identify and categorize emails based on their content and characteristics."
   ]
  },
  {
   "cell_type": "code",
   "execution_count": 1,
   "id": "b59f07eb",
   "metadata": {},
   "outputs": [],
   "source": [
    "#developed an email spam detection system using machine learning algorithms. The goal was to create an efficient system that can accurately classify incoming emails as either spam or non-spam (ham)\n",
    "\n",
    "#loading libraries\n"
   ]
  },
  {
   "cell_type": "code",
   "execution_count": 2,
   "id": "6f562f4e",
   "metadata": {},
   "outputs": [],
   "source": [
    "import pandas as pd\n",
    "import nltk\n",
    "import numpy as np\n"
   ]
  },
  {
   "cell_type": "code",
   "execution_count": 3,
   "id": "82183933",
   "metadata": {},
   "outputs": [],
   "source": [
    "import chardet"
   ]
  },
  {
   "cell_type": "code",
   "execution_count": 4,
   "id": "e2ee20b4",
   "metadata": {},
   "outputs": [],
   "source": [
    "#Loaded the dataset 'spam.csv' using Pandas, considering the appropriate encoding.\n",
    "encoding=' (Latin-1)'\n",
    "\n",
    "\n",
    "df = pd.read_csv('spam.csv', encoding=encoding, sep=',')\n",
    "    \n",
    "  \n",
    "    \n"
   ]
  },
  {
   "cell_type": "code",
   "execution_count": 5,
   "id": "5e1ce81c",
   "metadata": {},
   "outputs": [
    {
     "name": "stdout",
     "output_type": "stream",
     "text": [
      "        v1                                                 v2 Unnamed: 2  \\\n",
      "0      ham  Go until jurong point, crazy.. Available only ...        NaN   \n",
      "1      ham                      Ok lar... Joking wif u oni...        NaN   \n",
      "2     spam  Free entry in 2 a wkly comp to win FA Cup fina...        NaN   \n",
      "3      ham  U dun say so early hor... U c already then say...        NaN   \n",
      "4      ham  Nah I don't think he goes to usf, he lives aro...        NaN   \n",
      "...    ...                                                ...        ...   \n",
      "5567  spam  This is the 2nd time we have tried 2 contact u...        NaN   \n",
      "5568   ham              Will Ì_ b going to esplanade fr home?        NaN   \n",
      "5569   ham  Pity, * was in mood for that. So...any other s...        NaN   \n",
      "5570   ham  The guy did some bitching but I acted like i'd...        NaN   \n",
      "5571   ham                         Rofl. Its true to its name        NaN   \n",
      "\n",
      "     Unnamed: 3 Unnamed: 4  \n",
      "0           NaN        NaN  \n",
      "1           NaN        NaN  \n",
      "2           NaN        NaN  \n",
      "3           NaN        NaN  \n",
      "4           NaN        NaN  \n",
      "...         ...        ...  \n",
      "5567        NaN        NaN  \n",
      "5568        NaN        NaN  \n",
      "5569        NaN        NaN  \n",
      "5570        NaN        NaN  \n",
      "5571        NaN        NaN  \n",
      "\n",
      "[5572 rows x 5 columns]\n"
     ]
    }
   ],
   "source": [
    "print(df)"
   ]
  },
  {
   "cell_type": "code",
   "execution_count": 6,
   "id": "9a6d30d3",
   "metadata": {},
   "outputs": [
    {
     "name": "stdout",
     "output_type": "stream",
     "text": [
      "        v1                                                 v2\n",
      "0      ham  Go until jurong point, crazy.. Available only ...\n",
      "1      ham                      Ok lar... Joking wif u oni...\n",
      "2     spam  Free entry in 2 a wkly comp to win FA Cup fina...\n",
      "3      ham  U dun say so early hor... U c already then say...\n",
      "4      ham  Nah I don't think he goes to usf, he lives aro...\n",
      "...    ...                                                ...\n",
      "5567  spam  This is the 2nd time we have tried 2 contact u...\n",
      "5568   ham              Will Ì_ b going to esplanade fr home?\n",
      "5569   ham  Pity, * was in mood for that. So...any other s...\n",
      "5570   ham  The guy did some bitching but I acted like i'd...\n",
      "5571   ham                         Rofl. Its true to its name\n",
      "\n",
      "[5572 rows x 2 columns]\n"
     ]
    }
   ],
   "source": [
    "#Dropped irrelevant columns ('Unnamed: 2', 'Unnamed: 3', 'Unnamed: 4') from the DataFrame.\n",
    "df1 = df.drop(columns=['Unnamed: 2', 'Unnamed: 3', 'Unnamed: 4'])\n",
    "print(df1)"
   ]
  },
  {
   "cell_type": "code",
   "execution_count": 7,
   "id": "ec18b557",
   "metadata": {},
   "outputs": [
    {
     "name": "stdout",
     "output_type": "stream",
     "text": [
      "<class 'pandas.core.frame.DataFrame'>\n",
      "RangeIndex: 5572 entries, 0 to 5571\n",
      "Data columns (total 2 columns):\n",
      " #   Column  Non-Null Count  Dtype \n",
      "---  ------  --------------  ----- \n",
      " 0   v1      5572 non-null   object\n",
      " 1   v2      5572 non-null   object\n",
      "dtypes: object(2)\n",
      "memory usage: 87.2+ KB\n"
     ]
    }
   ],
   "source": [
    "df1.info()"
   ]
  },
  {
   "cell_type": "code",
   "execution_count": 8,
   "id": "f388bf6e",
   "metadata": {},
   "outputs": [
    {
     "data": {
      "text/plain": [
       "(5572, 2)"
      ]
     },
     "execution_count": 8,
     "metadata": {},
     "output_type": "execute_result"
    }
   ],
   "source": [
    "df1.shape"
   ]
  },
  {
   "cell_type": "code",
   "execution_count": 9,
   "id": "fc47f92d",
   "metadata": {},
   "outputs": [],
   "source": [
    "#Mapped 'ham' and 'spam' labels to numeric values (0 and 1).\n",
    "\n",
    "df1.loc[df1['v1']=='ham','v1',]=0\n",
    "df1.loc[df1['v1']=='spam','v1',]=1\n",
    "X=df1['v2']\n",
    "Y=df1['v1']"
   ]
  },
  {
   "cell_type": "code",
   "execution_count": 10,
   "id": "8748541a",
   "metadata": {},
   "outputs": [
    {
     "name": "stdout",
     "output_type": "stream",
     "text": [
      "0       0\n",
      "1       0\n",
      "2       1\n",
      "3       0\n",
      "4       0\n",
      "       ..\n",
      "5567    1\n",
      "5568    0\n",
      "5569    0\n",
      "5570    0\n",
      "5571    0\n",
      "Name: v1, Length: 5572, dtype: object\n"
     ]
    }
   ],
   "source": [
    "print(Y)"
   ]
  },
  {
   "cell_type": "code",
   "execution_count": 11,
   "id": "46c7aba8",
   "metadata": {},
   "outputs": [],
   "source": [
    "#Utilized the TF-IDF (Term Frequency-Inverse Document Frequency) vectorization to convert text data into numerical features.\n",
    "\n",
    "from sklearn.model_selection import train_test_split\n",
    "from sklearn.feature_extraction.text import TfidfVectorizer\n",
    "from sklearn.linear_model import LogisticRegression\n",
    "from sklearn.metrics import accuracy_score"
   ]
  },
  {
   "cell_type": "code",
   "execution_count": 12,
   "id": "af4a2aea",
   "metadata": {},
   "outputs": [],
   "source": [
    "#Split the dataset into training and testing sets using train_test_split from sklearn.model_selection.\n",
    "X_train,X_test,Y_train,Y_test=train_test_split(X,Y,test_size=0.2,random_state=42)"
   ]
  },
  {
   "cell_type": "code",
   "execution_count": 13,
   "id": "86d25714",
   "metadata": {},
   "outputs": [],
   "source": [
    "vectorizer = TfidfVectorizer(min_df=1,stop_words='english',lowercase='True')"
   ]
  },
  {
   "cell_type": "code",
   "execution_count": 14,
   "id": "7ede1dd8",
   "metadata": {},
   "outputs": [],
   "source": [
    "X_train_features = vectorizer.fit_transform(X_train)\n",
    "X_test_features = vectorizer.transform(X_test)\n",
    "Y_train=Y_train.astype('int')\n",
    "Y_test=Y_test.astype('int')"
   ]
  },
  {
   "cell_type": "code",
   "execution_count": 15,
   "id": "bfffcd19",
   "metadata": {},
   "outputs": [],
   "source": [
    "#Employed Logistic Regression as the classifier model.\n",
    "model = LogisticRegression()"
   ]
  },
  {
   "cell_type": "code",
   "execution_count": 16,
   "id": "c15b92dc",
   "metadata": {},
   "outputs": [
    {
     "data": {
      "text/plain": [
       "LogisticRegression()"
      ]
     },
     "execution_count": 16,
     "metadata": {},
     "output_type": "execute_result"
    }
   ],
   "source": [
    "#Fitted the model on the training data and evaluated its accuracy on both training and testing sets.\n",
    "model.fit(X_train_features,Y_train)"
   ]
  },
  {
   "cell_type": "code",
   "execution_count": 17,
   "id": "b556233a",
   "metadata": {},
   "outputs": [],
   "source": [
    "Y_pred0=model.predict(X_train_features)\n",
    "acc0=accuracy_score(Y_train,Y_pred0)"
   ]
  },
  {
   "cell_type": "code",
   "execution_count": 18,
   "id": "571e73fa",
   "metadata": {},
   "outputs": [
    {
     "data": {
      "text/plain": [
       "0.9694862014808167"
      ]
     },
     "execution_count": 18,
     "metadata": {},
     "output_type": "execute_result"
    }
   ],
   "source": [
    "acc0"
   ]
  },
  {
   "cell_type": "code",
   "execution_count": 19,
   "id": "3cf81b4d",
   "metadata": {},
   "outputs": [],
   "source": [
    "Y_pred1=model.predict(X_test_features)\n",
    "acc1=accuracy_score(Y_test,Y_pred1)"
   ]
  },
  {
   "cell_type": "code",
   "execution_count": 20,
   "id": "9906b873",
   "metadata": {},
   "outputs": [
    {
     "data": {
      "text/plain": [
       "0.9524663677130045"
      ]
     },
     "execution_count": 20,
     "metadata": {},
     "output_type": "execute_result"
    }
   ],
   "source": [
    "acc1 "
   ]
  },
  {
   "cell_type": "code",
   "execution_count": 21,
   "id": "9b8f8174",
   "metadata": {},
   "outputs": [
    {
     "name": "stdout",
     "output_type": "stream",
     "text": [
      "[0]\n",
      "ham mail\n"
     ]
    }
   ],
   "source": [
    "#Created a function to classify input emails as spam or ham using the trained model and vectorizer.\n",
    "\n",
    "input_mail = [\"\"]\n",
    "\n",
    "input_features=vectorizer.transform(input_mail)\n",
    "\n",
    "pred = model.predict(input_features)\n",
    "\n",
    "print(pred)\n",
    "\n",
    "\n",
    "if(pred[0]==1):\n",
    "    print('spam mail')\n",
    "else:\n",
    "    print('ham mail')"
   ]
  },
  {
   "cell_type": "code",
   "execution_count": null,
   "id": "113f8ba6",
   "metadata": {},
   "outputs": [],
   "source": [
    "import joblib\n",
    "\n",
    "joblib.dump(model, 'trained_model.joblib')\n"
   ]
  },
  {
   "cell_type": "code",
   "execution_count": null,
   "id": "2b0e8fe0",
   "metadata": {},
   "outputs": [],
   "source": [
    "joblib.dump(vectorizer, 'tfidf_vectorizer.joblib')"
   ]
  },
  {
   "cell_type": "code",
   "execution_count": null,
   "id": "7c8fa28c",
   "metadata": {},
   "outputs": [],
   "source": [
    "#Creating a GUI for Spam Detection:\n",
    "import tkinter as tk\n",
    "from tkinter import ttk\n",
    "from sklearn.feature_extraction.text import TfidfVectorizer\n",
    "from sklearn.linear_model import LogisticRegression\n",
    "import joblib\n",
    "\n",
    "# Load the trained model and vectorizer\n",
    "model = joblib.load('trained_model.joblib')\n",
    "vectorizer = joblib.load('tfidf_vectorizer.joblib')\n",
    "\n",
    "# Create the GUI application\n",
    "class EmailSpamDetectorApp:\n",
    "    def __init__(self, root):\n",
    "        self.root = root\n",
    "        self.root.title(\"Email Spam Detector\")\n",
    "\n",
    "        self.label = ttk.Label(root, text=\"Enter an email:\")\n",
    "        self.label.pack(pady=10)\n",
    "\n",
    "        self.text_entry = ttk.Entry(root, width=50)\n",
    "        self.text_entry.pack(pady=10)\n",
    "\n",
    "        self.detect_button = ttk.Button(root, text=\"Detect\", command=self.detect_spam)\n",
    "        self.detect_button.pack()\n",
    "\n",
    "    def detect_spam(self):\n",
    "        input_mail = [self.text_entry.get()]\n",
    "\n",
    "        # Transform the input using the pre-fitted vectorizer\n",
    "        input_features = vectorizer.transform(input_mail)\n",
    "\n",
    "        # Make prediction\n",
    "        pred = model.predict(input_features)\n",
    "\n",
    "        if pred[0] == 1:\n",
    "            result = \"spam mail\"\n",
    "        else:\n",
    "            result = \"ham mail\"\n",
    "\n",
    "        result_label = ttk.Label(self.root, text=f\"This email is classified as: {result}\")\n",
    "        result_label.pack()\n",
    "\n",
    "# Create the main window\n",
    "root = tk.Tk()\n",
    "app = EmailSpamDetectorApp(root)\n",
    "\n",
    "# Start the GUI event loop\n",
    "root.mainloop()\n"
   ]
  }
 ],
 "metadata": {
  "kernelspec": {
   "display_name": "Python 3 (ipykernel)",
   "language": "python",
   "name": "python3"
  },
  "language_info": {
   "codemirror_mode": {
    "name": "ipython",
    "version": 3
   },
   "file_extension": ".py",
   "mimetype": "text/x-python",
   "name": "python",
   "nbconvert_exporter": "python",
   "pygments_lexer": "ipython3",
   "version": "3.9.12"
  }
 },
 "nbformat": 4,
 "nbformat_minor": 5
}
